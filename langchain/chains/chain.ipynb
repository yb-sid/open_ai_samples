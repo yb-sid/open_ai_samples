{
 "cells": [
  {
   "cell_type": "markdown",
   "metadata": {},
   "source": [
    "## Chains in Langchain\n",
    "\n",
    "- LLMChain\n",
    "- Sequential Chain \n",
    "    - SimpleSequentialChain\n",
    "    - SequentialChain\n",
    "- Router Chain\n",
    "\n",
    "chain = (LLM + prompt_template + output parser) block - you can combine multiple blocks to carry out sequence of operations"
   ]
  },
  {
   "cell_type": "code",
   "execution_count": 1,
   "metadata": {},
   "outputs": [],
   "source": [
    "# import environment \n",
    "from dotenv import load_dotenv,find_dotenv\n",
    "\n",
    "_ = load_dotenv(find_dotenv())\n"
   ]
  },
  {
   "cell_type": "code",
   "execution_count": 48,
   "metadata": {},
   "outputs": [
    {
     "data": {
      "text/html": [
       "<div>\n",
       "<style scoped>\n",
       "    .dataframe tbody tr th:only-of-type {\n",
       "        vertical-align: middle;\n",
       "    }\n",
       "\n",
       "    .dataframe tbody tr th {\n",
       "        vertical-align: top;\n",
       "    }\n",
       "\n",
       "    .dataframe thead th {\n",
       "        text-align: right;\n",
       "    }\n",
       "</style>\n",
       "<table border=\"1\" class=\"dataframe\">\n",
       "  <thead>\n",
       "    <tr style=\"text-align: right;\">\n",
       "      <th></th>\n",
       "      <th>Product</th>\n",
       "      <th>Review</th>\n",
       "    </tr>\n",
       "  </thead>\n",
       "  <tbody>\n",
       "    <tr>\n",
       "      <th>0</th>\n",
       "      <td>Queen Size Sheet Set</td>\n",
       "      <td>I ordered a king size set. My only criticism w...</td>\n",
       "    </tr>\n",
       "    <tr>\n",
       "      <th>1</th>\n",
       "      <td>Waterproof Phone Pouch</td>\n",
       "      <td>I loved the waterproof sac, although the openi...</td>\n",
       "    </tr>\n",
       "    <tr>\n",
       "      <th>2</th>\n",
       "      <td>Luxury Air Mattress</td>\n",
       "      <td>This mattress had a small hole in the top of i...</td>\n",
       "    </tr>\n",
       "    <tr>\n",
       "      <th>3</th>\n",
       "      <td>Pillows Insert</td>\n",
       "      <td>This is the best throw pillow fillers on Amazo...</td>\n",
       "    </tr>\n",
       "    <tr>\n",
       "      <th>4</th>\n",
       "      <td>Milk Frother Handheld\\n</td>\n",
       "      <td>I loved this product. But they only seem to l...</td>\n",
       "    </tr>\n",
       "    <tr>\n",
       "      <th>5</th>\n",
       "      <td>L'Or Espresso Café \\n</td>\n",
       "      <td>Je trouve le goût médiocre. La mousse ne tient...</td>\n",
       "    </tr>\n",
       "    <tr>\n",
       "      <th>6</th>\n",
       "      <td>Hervidor de Agua Eléctrico</td>\n",
       "      <td>Está lu bonita calienta muy rápido, es muy fun...</td>\n",
       "    </tr>\n",
       "  </tbody>\n",
       "</table>\n",
       "</div>"
      ],
      "text/plain": [
       "                      Product  \\\n",
       "0        Queen Size Sheet Set   \n",
       "1      Waterproof Phone Pouch   \n",
       "2         Luxury Air Mattress   \n",
       "3              Pillows Insert   \n",
       "4     Milk Frother Handheld\\n   \n",
       "5       L'Or Espresso Café \\n   \n",
       "6  Hervidor de Agua Eléctrico   \n",
       "\n",
       "                                              Review  \n",
       "0  I ordered a king size set. My only criticism w...  \n",
       "1  I loved the waterproof sac, although the openi...  \n",
       "2  This mattress had a small hole in the top of i...  \n",
       "3  This is the best throw pillow fillers on Amazo...  \n",
       "4   I loved this product. But they only seem to l...  \n",
       "5  Je trouve le goût médiocre. La mousse ne tient...  \n",
       "6  Está lu bonita calienta muy rápido, es muy fun...  "
      ]
     },
     "metadata": {},
     "output_type": "display_data"
    }
   ],
   "source": [
    "import pandas as pd\n",
    "\n",
    "from IPython.display import display\n",
    "\n",
    "review_df = pd.read_csv(\"review_data.csv\")\n",
    "display(review_df)"
   ]
  },
  {
   "cell_type": "markdown",
   "metadata": {},
   "source": [
    "## LLM Chain example"
   ]
  },
  {
   "cell_type": "code",
   "execution_count": 34,
   "metadata": {},
   "outputs": [],
   "source": [
    "from langchain.chat_models import ChatOpenAI\n",
    "from langchain.prompts import ChatPromptTemplate\n",
    "from langchain.chains import LLMChain\n",
    "\n",
    "chat_model = ChatOpenAI(temperature=0.9)"
   ]
  },
  {
   "cell_type": "code",
   "execution_count": 29,
   "metadata": {},
   "outputs": [
    {
     "name": "stdout",
     "output_type": "stream",
     "text": [
      "Royal Comfort\n"
     ]
    }
   ],
   "source": [
    "product_prompt = ChatPromptTemplate.from_template(\"\"\"\n",
    "Generate an appropriate name for a company that makes```{product}```\n",
    "\"\"\")\n",
    "\n",
    "chain = LLMChain(llm=chat_model,prompt=product_prompt)\n",
    "\n",
    "product_name = chain.run(product = review_df['Product'].iloc[0])\n",
    "\n",
    "print(product_name)\n"
   ]
  },
  {
   "cell_type": "markdown",
   "metadata": {},
   "source": [
    "## SimpleSequential Chain :\n",
    "\n",
    "combine two chains using `+` operator , output of one chain is input for next\n",
    "\n",
    "works well when subchain expect one input and give out one output\n"
   ]
  },
  {
   "cell_type": "code",
   "execution_count": 36,
   "metadata": {},
   "outputs": [
    {
     "name": "stdout",
     "output_type": "stream",
     "text": [
      "Luxury Air Mattress\n",
      "\n",
      "\n",
      "\u001b[1m> Entering new SimpleSequentialChain chain...\u001b[0m\n",
      "\u001b[36;1m\u001b[1;3mOpulentRest\u001b[0m\n",
      "\u001b[33;1m\u001b[1;3mOpulentRest is a luxurious company offering premium bedding products and accessories for a truly restful and opulent sleep experience.\u001b[0m\n",
      "\n",
      "\u001b[1m> Finished chain.\u001b[0m\n"
     ]
    },
    {
     "data": {
      "text/plain": [
       "'OpulentRest is a luxurious company offering premium bedding products and accessories for a truly restful and opulent sleep experience.'"
      ]
     },
     "execution_count": 36,
     "metadata": {},
     "output_type": "execute_result"
    }
   ],
   "source": [
    "from langchain.chains import SimpleSequentialChain\n",
    "\n",
    "prompt_one = ChatPromptTemplate.from_template(\"Generate one name to describe a company that makes `{product}`\")\n",
    "\n",
    "prompt_two = ChatPromptTemplate.from_template(\"Write a 20 word description for the Company name delimited by \\\n",
    "                                              ``` , Company : ```{company_name}```\")\n",
    "\n",
    "chain_one = LLMChain(llm = chat_model,prompt=prompt_one)\n",
    "chain_two = LLMChain(llm = chat_model, prompt = prompt_two)\n",
    "\n",
    "simple_seq_chain = SimpleSequentialChain(chains= [chain_one , chain_two], verbose=True)\n",
    "print(review_df['Product'].iloc[2])\n",
    "\n",
    "simple_seq_chain.run(input = review_df['Product'].iloc[2]) # need to use `input` , can't use other names"
   ]
  },
  {
   "cell_type": "markdown",
   "metadata": {},
   "source": [
    "## Sequential Chain\n",
    "\n",
    "- Use `output_key` to retrieve output from chain , use it in different prompts"
   ]
  },
  {
   "cell_type": "code",
   "execution_count": 43,
   "metadata": {},
   "outputs": [],
   "source": [
    "from langchain.chains import SequentialChain\n",
    "\n",
    "first_prompt = ChatPromptTemplate.from_template(\"\"\"Translate the text into English, text \\n:{review}\"\"\")\n",
    "\n",
    "#chain1: input -> review text , output English review\n",
    "chain1 = LLMChain(llm=chat_model , prompt=first_prompt , output_key=\"eng_review\")\n"
   ]
  },
  {
   "cell_type": "code",
   "execution_count": 44,
   "metadata": {},
   "outputs": [],
   "source": [
    "# get the summary of eng_review\n",
    "second_prompt = ChatPromptTemplate.from_template(\"\"\"Summarize following reiview in 1 sentence:\\n {eng_review}\"\"\")\n",
    "\n",
    "chain2 = LLMChain(prompt=second_prompt , llm = chat_model , output_key=\"summary\")\n"
   ]
  },
  {
   "cell_type": "code",
   "execution_count": 45,
   "metadata": {},
   "outputs": [],
   "source": [
    "third_prompt = ChatPromptTemplate.from_template(\"\"\"Identify the language of the following review : {review}\"\"\")\n",
    "\n",
    "chain3 = LLMChain(llm = chat_model , prompt = third_prompt , output_key = \"lang\")"
   ]
  },
  {
   "cell_type": "code",
   "execution_count": 46,
   "metadata": {},
   "outputs": [],
   "source": [
    "fourth_prompt = ChatPromptTemplate.from_template(\"\"\"\n",
    "    Write a one line follow up response to the summary :\\n {summary} \\n in following language \\n : {lang}\n",
    "\"\"\")\n",
    "                                                 \n",
    "chain4 = LLMChain(llm = chat_model , prompt=fourth_prompt , output_key= \"followup\")"
   ]
  },
  {
   "cell_type": "code",
   "execution_count": 47,
   "metadata": {},
   "outputs": [],
   "source": [
    "# combine all 4 chains \n",
    "overall_chain = SequentialChain(chains=[chain1,chain2,chain3,chain4], input_variables=[\"review\"],\n",
    "                                output_variables=[\"eng_review\",\"summary\",\"lang\",\"followup\"],verbose=True)"
   ]
  },
  {
   "cell_type": "code",
   "execution_count": null,
   "metadata": {},
   "outputs": [],
   "source": [
    "# now run using data\n",
    "review = review_df.Review[6]\n",
    "overall_chain(inputs = {\"review\":review}) # calls API for each LLMChain , so RateLimit error will be reached"
   ]
  },
  {
   "cell_type": "markdown",
   "metadata": {},
   "source": [
    "In above example : \n",
    "\n",
    "{review} -> chain1 & chain3 \n",
    "chain1 -> chain2-> chain4 , chain3-> chain4 \n",
    "\n",
    "finally , chain4 -> followup"
   ]
  },
  {
   "cell_type": "code",
   "execution_count": null,
   "metadata": {},
   "outputs": [],
   "source": []
  }
 ],
 "metadata": {
  "kernelspec": {
   "display_name": "openaivenv",
   "language": "python",
   "name": "python3"
  },
  "language_info": {
   "codemirror_mode": {
    "name": "ipython",
    "version": 3
   },
   "file_extension": ".py",
   "mimetype": "text/x-python",
   "name": "python",
   "nbconvert_exporter": "python",
   "pygments_lexer": "ipython3",
   "version": "3.11.2"
  },
  "orig_nbformat": 4
 },
 "nbformat": 4,
 "nbformat_minor": 2
}
