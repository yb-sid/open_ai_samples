{
 "cells": [
  {
   "cell_type": "code",
   "execution_count": 2,
   "metadata": {},
   "outputs": [],
   "source": [
    "path = \"pdfs/reimburse.pdf\""
   ]
  },
  {
   "cell_type": "code",
   "execution_count": 3,
   "metadata": {},
   "outputs": [],
   "source": [
    "from langchain.document_loaders import PyPDFLoader\n",
    "loader = PyPDFLoader(path)\n",
    "pages = loader.load()"
   ]
  },
  {
   "cell_type": "code",
   "execution_count": 4,
   "metadata": {},
   "outputs": [
    {
     "data": {
      "text/plain": [
       "Document(page_content='CADTH Reimbursement Recommendation\\nFoslevodopa-Foscarbidopa (Vyalev) 6Reimbursement condition Reason Implementation guidance\\n 1.1.  have not been able to achieve \\nsatisfactory control of severe, \\ndebilitating motor fluctuations and \\nhyperkinesia or dyskinesia despite \\noptimized treatment with available \\ncombinations of PD treatments, \\nincluding maximally tolerated \\ndoses of levodopa in combination \\nwith carbidopa, a COMT inhibitor, \\na dopamine agonist, a MAO-B \\ninhibitor, and amantadine, if not \\ncontraindicated\\n 1.2.  have severe disability associated \\nwith at least 25% of the waking day \\nin the off state and/or ongoing, \\nbothersome levodopa-induced \\ndyskinesias, despite having tried \\nfrequent dosing of levodopa (at \\nleast 5 doses per day)\\n 1.3.  have received an adequate trial \\nof maximally tolerated doses \\nof levodopa, with previously \\ndemonstrated clinical response\\n 1.4.  the patient does not have severe \\npsychosis or severe dementia\\n 1.5.  patient or caregiver are able \\nto demonstrate correct \\nunderstanding and use of the \\ndelivery system.levodopa-responsive advanced PD, taking \\nPD medications at a total daily dose of \\n≥\\xa0400 mg/day levodopa equivalents, had \\nmotor fluctuations and motor symptoms \\ninadequately controlled by current therapy, \\nand had normal cognitive function (MMSE \\n≥\\xa024).\\nRenewal\\n 2.  Eligibility for foslevodopa-foscarbidopa \\nshould be based on the criteria used \\nby each of the public drug plans for \\nthe renewal of LCIG in patients with \\nadvanced PD.There was no evidence identified that \\nsuggested treatment response to \\nfoslevodopa-foscarbidopa would be \\nevaluated differently than treatment \\nresponse to LCIG.The patient should continue to \\nbenefit from treatment for renewal \\nof foslevodopa-foscarbidopa \\nreimbursement. It is expected that \\nclinicians will continue to monitor \\ntheir patients and discontinue \\nfoslevodopa-foscarbidopa if the \\npatient is no longer benefiting from \\ntreatment.\\nPrescribing\\n 3.  Foslevodopa-foscarbidopa should be \\nprescribed by neurologists who are \\nmovement disorder subspecialists \\nor who have expertise in managing \\nadvanced PD.To ensure foslevodopa-foscarbidopa is \\nprescribed only for appropriate patients and \\nmanaged in an optimized manner.—', metadata={'source': 'pdfs/reimburse.pdf', 'page': 5})"
      ]
     },
     "execution_count": 4,
     "metadata": {},
     "output_type": "execute_result"
    }
   ],
   "source": [
    "pages[5]"
   ]
  },
  {
   "cell_type": "markdown",
   "metadata": {},
   "source": [
    "use `python -m spacy download en_core_web_sm` after `pip install spacy`"
   ]
  },
  {
   "cell_type": "code",
   "execution_count": 17,
   "metadata": {},
   "outputs": [
    {
     "name": "stderr",
     "output_type": "stream",
     "text": [
      "/Users/ybsid/Projects/openai_cookbook/openaivenv/lib/python3.11/site-packages/spacy/pipeline/lemmatizer.py:211: UserWarning: [W108] The rule-based lemmatizer did not find POS annotation for one or more tokens. Check that your pipeline includes components that assign token.pos, typically 'tagger'+'attribute_ruler' or 'morphologizer'.\n",
      "  warnings.warn(Warnings.W108)\n"
     ]
    }
   ],
   "source": [
    "from langchain.text_splitter import SpacyTextSplitter\n",
    "\n",
    "text_splitter = SpacyTextSplitter(separator=\"\\n\\n\", pipeline= \"en_core_web_sm\",**{\"chunk_size\":10000 , \"chunk_overlap\":200})\n",
    "\n",
    "splitted_docs = text_splitter.split_documents(pages)"
   ]
  },
  {
   "cell_type": "code",
   "execution_count": 15,
   "metadata": {},
   "outputs": [
    {
     "data": {
      "text/plain": [
       "22"
      ]
     },
     "execution_count": 15,
     "metadata": {},
     "output_type": "execute_result"
    }
   ],
   "source": [
    "len(splitted_docs)"
   ]
  },
  {
   "cell_type": "code",
   "execution_count": 11,
   "metadata": {},
   "outputs": [],
   "source": [
    "from dotenv import load_dotenv , find_dotenv\n",
    "\n",
    "_ = load_dotenv(find_dotenv())"
   ]
  },
  {
   "cell_type": "code",
   "execution_count": 16,
   "metadata": {},
   "outputs": [],
   "source": [
    "from langchain.vectorstores import FAISS\n",
    "from langchain.embeddings import OpenAIEmbeddings\n",
    "\n",
    "embedding = OpenAIEmbeddings()\n",
    "\n",
    "vector_store = FAISS()\n",
    "\n",
    "\n"
   ]
  },
  {
   "cell_type": "code",
   "execution_count": null,
   "metadata": {},
   "outputs": [],
   "source": []
  }
 ],
 "metadata": {
  "kernelspec": {
   "display_name": "openaivenv",
   "language": "python",
   "name": "python3"
  },
  "language_info": {
   "codemirror_mode": {
    "name": "ipython",
    "version": 3
   },
   "file_extension": ".py",
   "mimetype": "text/x-python",
   "name": "python",
   "nbconvert_exporter": "python",
   "pygments_lexer": "ipython3",
   "version": "3.11.2"
  },
  "orig_nbformat": 4
 },
 "nbformat": 4,
 "nbformat_minor": 2
}
